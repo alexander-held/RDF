{
 "cells": [
  {
   "cell_type": "code",
   "execution_count": 2,
   "id": "9dbdd086",
   "metadata": {},
   "outputs": [],
   "source": [
    "import json\n",
    "\n",
    "    \n",
    "def construct_fileset():\n",
    "\n",
    "    # list of files\n",
    "    with open(\"ntuples.json\") as f:\n",
    "        file_info = json.load(f)\n",
    "\n",
    "    # process into \"fileset\" summarizing all info\n",
    "    fileset = {}\n",
    "    for process in file_info.keys():\n",
    "        if process == \"data\":\n",
    "            continue  # skip data\n",
    "\n",
    "        for variation in file_info[process].keys():\n",
    "            file_list = file_info[process][variation][\"files\"]\n",
    "            file_path = file_list[0][\"path\"]\n",
    "            fileset.update({process:file_path})\n",
    "\n",
    "    return fileset\n"
   ]
  },
  {
   "cell_type": "code",
   "execution_count": 3,
   "id": "0fb5f691",
   "metadata": {
    "scrolled": true
   },
   "outputs": [
    {
     "name": "stdout",
     "output_type": "stream",
     "text": [
      "{'ttbar': 'https://xrootd-local.unl.edu:1094//store/user/AGC/datasets/RunIIFall15MiniAODv2/TT_TuneEE5C_13TeV-powheg-herwigpp/MINIAODSIM/PU25nsData2015v1_76X_mcRun2_asymptotic_v12-v1/10000/00284D8E-E8DB-E511-A462-02163E012D21.root', 'single_top_s_chan': 'https://xrootd-local.unl.edu:1094//store/user/AGC/datasets/RunIIFall15MiniAODv2/ST_s-channel_4f_InclusiveDecays_13TeV-amcatnlo-pythia8/MINIAODSIM/PU25nsData2015v1_76X_mcRun2_asymptotic_v12-v1/00000/0EB5E88C-FE0D-E611-915D-003048FFD76C.root', 'single_top_t_chan': 'https://xrootd-local.unl.edu:1094//store/user/AGC/datasets/RunIIFall15MiniAODv2/ST_t-channel_antitop_4f_inclusiveDecays_13TeV-powhegV2-madspin-pythia8_TuneCUETP8M1/MINIAODSIM/PU25nsData2015v1_76X_mcRun2_asymptotic_v12-v1/00000/00004F9A-E3D2-E511-ABEC-0CC47A78A478.root', 'single_top_tW': 'https://xrootd-local.unl.edu:1094//store/user/AGC/datasets/RunIIFall15MiniAODv2/ST_tW_antitop_5f_inclusiveDecays_13TeV-powheg-pythia8_TuneCUETP8M1/MINIAODSIM/PU25nsData2015v1_76X_mcRun2_asymptotic_v12-v1/00000/00D0925F-56B9-E511-8A71-0025907FD2B2.root', 'wjets': 'https://xrootd-local.unl.edu:1094//store/user/AGC/datasets/RunIIFall15MiniAODv2/WJetsToLNu_TuneCUETP8M1_13TeV-amcatnloFXFX-pythia8/MINIAODSIM/PU25nsData2015v1_76X_mcRun2_asymptotic_v12_ext2-v1/10000/002B75B9-10DB-E511-915B-02163E017888.root'}\n"
     ]
    }
   ],
   "source": [
    "fileset = construct_fileset()\n",
    "print(fileset)"
   ]
  },
  {
   "cell_type": "code",
   "execution_count": 4,
   "id": "679953ac",
   "metadata": {},
   "outputs": [
    {
     "data": {
      "text/plain": [
       "dict_keys(['ttbar', 'single_top_s_chan', 'single_top_t_chan', 'single_top_tW', 'wjets'])"
      ]
     },
     "execution_count": 4,
     "metadata": {},
     "output_type": "execute_result"
    }
   ],
   "source": [
    "fileset.keys()"
   ]
  },
  {
   "cell_type": "code",
   "execution_count": 5,
   "id": "3dbb978a",
   "metadata": {},
   "outputs": [],
   "source": [
    "from coffea.nanoevents import transforms\n",
    "from coffea.nanoevents.methods import base, vector\n",
    "from coffea.nanoevents.schemas.base import BaseSchema, zip_forms\n",
    "\n",
    "class AGCSchema(BaseSchema):\n",
    "    def __init__(self, base_form):\n",
    "        super().__init__(base_form)\n",
    "        self._form[\"contents\"] = self._build_collections(self._form[\"contents\"])\n",
    "\n",
    "    def _build_collections(self, branch_forms):\n",
    "        names = set([k.split('_')[0] for k in branch_forms.keys() if not (k.startswith('number'))])\n",
    "        # Remove n(names) from consideration. It's safe to just remove names that start with n, as nothing else begins with n in our fields.\n",
    "        # Also remove GenPart, PV and MET because they deviate from the pattern of having a 'number' field.\n",
    "        names = [k for k in names if not (k.startswith('n') | k.startswith('met') | k.startswith('GenPart') | k.startswith('PV'))]\n",
    "        output = {}\n",
    "        for name in names:\n",
    "            offsets = transforms.counts2offsets_form(branch_forms['number' + name])\n",
    "            content = {k[len(name)+1:]: branch_forms[k] for k in branch_forms if (k.startswith(name + \"_\") & (k[len(name)+1:] != 'e'))}\n",
    "            # Add energy separately so its treated correctly by the p4 vector.\n",
    "            content['energy'] = branch_forms[name+'_e']\n",
    "            # Check for LorentzVector\n",
    "            output[name] = zip_forms(content, name, 'PtEtaPhiELorentzVector', offsets=offsets)\n",
    "\n",
    "        # Handle GenPart, PV, MET. Note that all the nPV_*'s should be the same. We just use one.\n",
    "        output['met'] = zip_forms({k[len('met')+1:]: branch_forms[k] for k in branch_forms if k.startswith('met_')}, 'met')\n",
    "        #output['GenPart'] = zip_forms({k[len('GenPart')+1:]: branch_forms[k] for k in branch_forms if k.startswith('GenPart_')}, 'GenPart', offsets=transforms.counts2offsets_form(branch_forms['numGenPart']))\n",
    "        output['PV'] = zip_forms({k[len('PV')+1:]: branch_forms[k] for k in branch_forms if (k.startswith('PV_') & ('npvs' not in k))}, 'PV', offsets=transforms.counts2offsets_form(branch_forms['nPV_x']))\n",
    "        return output\n",
    "\n",
    "    @property\n",
    "    def behavior(self):\n",
    "        behavior = {}\n",
    "        behavior.update(base.behavior)\n",
    "        behavior.update(vector.behavior)\n",
    "        return behavior"
   ]
  },
  {
   "cell_type": "code",
   "execution_count": 12,
   "id": "af411929",
   "metadata": {},
   "outputs": [],
   "source": [
    "# xsec_info = {\n",
    "#     \"ttbar\": 396.87 + 332.97, # nonallhad + allhad, keep same x-sec for all\n",
    "#     \"single_top_s_chan\": 2.0268 + 1.2676,\n",
    "#     \"single_top_t_chan\": (36.993 + 22.175)/0.252,  # scale from lepton filter to inclusive\n",
    "#     \"single_top_tW\": 37.936 + 37.906,\n",
    "#     \"wjets\": 61457 * 0.252,  # e/mu+nu final states\n",
    "#     \"data\": None\n",
    "# }\n",
    "\n",
    "from coffea.nanoevents import NanoEventsFactory\n",
    "def construct_eventset(fileset):\n",
    "    eventset = {}\n",
    "    for process in fileset.keys():\n",
    "        events = NanoEventsFactory.from_root(\n",
    "                                            file=fileset[process],\n",
    "                                            schemaclass=AGCSchema,\n",
    "                                            treepath=\"events\"\n",
    "                                            ).events()\n",
    "        eventset.update({process:events})\n",
    "    return eventset\n",
    "        "
   ]
  },
  {
   "cell_type": "code",
   "execution_count": 24,
   "id": "81281b9d",
   "metadata": {},
   "outputs": [],
   "source": [
    "import awkward as ak\n",
    "import numpy as np\n",
    "\n",
    "def fill(histogram, process, events):\n",
    "\n",
    "    variation = \"nominal\"\n",
    "\n",
    "    # normalization for MC\n",
    "    x_sec = xsec_info[process]\n",
    "    nevts_total = len(events)\n",
    "    lumi = 3378 # /pb\n",
    "    xsec_weight = x_sec * lumi / nevts_total\n",
    "\n",
    "\n",
    "\n",
    "    ### event selection\n",
    "    # very very loosely based on https://arxiv.org/abs/2006.13076\n",
    "    # pT > 25 GeV for leptons & jets\n",
    "    selected_electrons = events.electron[events.electron.pt > 25]\n",
    "    selected_muons = events.muon[events.muon.pt > 25]\n",
    "    selected_jets = events.jet[events.jet.pt>25]\n",
    "\n",
    "    # single lepton requirement\n",
    "    event_filters = (ak.count(selected_electrons.pt, axis=1) & ak.count(selected_muons.pt, axis=1) == 1)\n",
    "    # at least four jets\n",
    "    event_filters = event_filters & (ak.count(selected_jets.pt, axis=1) >= 4)\n",
    "    # at least one b-tagged jet (\"tag\" means score above threshold)\n",
    "    B_TAG_THRESHOLD = 0.5\n",
    "    event_filters = event_filters & (ak.sum(selected_jets.btag >= B_TAG_THRESHOLD, axis=1) >= 1)\n",
    "\n",
    "    # apply event filters\n",
    "    selected_events = events[event_filters]\n",
    "    selected_electrons = selected_electrons[event_filters]\n",
    "    selected_muons = selected_muons[event_filters]\n",
    "    selected_jets = selected_jets[event_filters]\n",
    "\n",
    "    for region in [\"4j1b\", \"4j2b\"]:\n",
    "        # further filtering: 4j1b CR with single b-tag, 4j2b SR with two or more tags\n",
    "        if region == \"4j1b\":\n",
    "            region_filter = ak.sum(selected_jets.btag >= B_TAG_THRESHOLD, axis=1) == 1\n",
    "            selected_jets_region = selected_jets[region_filter]\n",
    "            # use HT (scalar sum of jet pT) as observable\n",
    "            observable = ak.sum(selected_jets_region.pt, axis=-1)\n",
    "\n",
    "        elif region == \"4j2b\":\n",
    "            region_filter = ak.sum(selected_jets.btag > B_TAG_THRESHOLD, axis=1) >= 2\n",
    "            selected_jets_region = selected_jets[region_filter]\n",
    "             # reconstruct hadronic top as bjj system with largest pT\n",
    "            # the jet energy scale / resolution effect is not propagated to this observable at the moment\n",
    "            trijet = ak.combinations(selected_jets_region, 3, fields=[\"j1\", \"j2\", \"j3\"])  # trijet candidates\n",
    "            trijet[\"p4\"] = trijet.j1 + trijet.j2 + trijet.j3  # calculate four-momentum of tri-jet system\n",
    "            trijet[\"max_btag\"] = np.maximum(trijet.j1.btag, np.maximum(trijet.j2.btag, trijet.j3.btag))\n",
    "            trijet = trijet[trijet.max_btag > B_TAG_THRESHOLD]  # require at least one-btag in trijet candidates\n",
    "            # pick trijet candidate with largest pT and calculate mass of system\n",
    "            trijet_mass = trijet[\"p4\"][ak.argmax(trijet.p4.pt, axis=1, keepdims=True)].mass\n",
    "            observable = ak.flatten(trijet_mass)\n",
    "\n",
    "\n",
    "\n",
    "        # nominal pT, but including 2-point systematics\n",
    "        histogram.fill(\n",
    "                    observable=observable, region=region, process=process, variation=variation, weight=xsec_weight\n",
    "                )\n",
    "\n",
    "\n",
    "\n",
    "\n",
    "\n",
    "\n",
    "\n"
   ]
  },
  {
   "cell_type": "code",
   "execution_count": 25,
   "id": "451be643",
   "metadata": {},
   "outputs": [],
   "source": [
    "import hist\n",
    "def init():\n",
    "    num_bins = 25\n",
    "    bin_low = 50\n",
    "    bin_high = 550\n",
    "    name = \"observable\"\n",
    "    label = \"observable [GeV]\"\n",
    "    histogram = (\n",
    "            hist.Hist.new.Reg(num_bins, bin_low, bin_high, name=name, label=label)\n",
    "            .StrCat([\"4j1b\", \"4j2b\"], name=\"region\", label=\"Region\")\n",
    "            .StrCat([], name=\"process\", label=\"Process\", growth=True)\n",
    "            .StrCat([], name=\"variation\", label=\"Systematic variation\", growth=True)\n",
    "            .Weight()\n",
    "    )\n",
    "    return histogram"
   ]
  },
  {
   "cell_type": "code",
   "execution_count": 26,
   "id": "330d9a4a",
   "metadata": {},
   "outputs": [],
   "source": [
    "histogram = init()\n",
    "eventset = construct_eventset(fileset)"
   ]
  },
  {
   "cell_type": "code",
   "execution_count": 27,
   "id": "2fb06a7a",
   "metadata": {},
   "outputs": [],
   "source": [
    "for process in eventset.keys():\n",
    "    fill(events=eventset[process], process=process, histogram=histogram)"
   ]
  },
  {
   "cell_type": "code",
   "execution_count": 28,
   "id": "c224330f",
   "metadata": {},
   "outputs": [],
   "source": [
    "all_histograms = histogram"
   ]
  },
  {
   "cell_type": "code",
   "execution_count": 33,
   "id": "a0ba0562",
   "metadata": {},
   "outputs": [],
   "source": [
    "import matplotlib as mpl\n",
    "import matplotlib.pyplot as plt\n",
    "\n",
    "mpl.style.use(\"ggplot\")\n",
    "plt.rcParams[\"axes.facecolor\"] = \"none\"\n",
    "plt.rcParams[\"axes.edgecolor\"] = \"222222\"\n",
    "plt.rcParams[\"axes.labelcolor\"] = \"222222\"\n",
    "plt.rcParams[\"xtick.color\"] = \"222222\"\n",
    "plt.rcParams[\"ytick.color\"] = \"222222\"\n",
    "plt.rcParams[\"font.size\"] = 12\n",
    "plt.rcParams['text.color'] = \"222222\""
   ]
  },
  {
   "cell_type": "code",
   "execution_count": 34,
   "id": "4a45e50b",
   "metadata": {},
   "outputs": [
    {
     "data": {
      "image/png": "[encoded data removed]",
      "text/plain": [
       "<Figure size 432x288 with 1 Axes>"
      ]
     },
     "metadata": {
      "needs_background": "light"
     },
     "output_type": "display_data"
    }
   ],
   "source": [
    "all_histograms[120j::hist.rebin(2), \"4j1b\", :, \"nominal\"].stack(\"process\")[::-1].plot(stack=True, histtype=\"fill\", linewidth=1, edgecolor=\"grey\")\n",
    "plt.legend(frameon=False)"
   ]
  },
  {
   "cell_type": "code",
   "execution_count": 38,
   "id": "106b3ff3",
   "metadata": {},
   "outputs": [
    {
     "data": {
      "image/png": "[encoded data removed]",
      "text/plain": [
       "<Figure size 432x288 with 1 Axes>"
      ]
     },
     "metadata": {
      "needs_background": "light"
     },
     "output_type": "display_data"
    }
   ],
   "source": [
    "all_histograms[:, \"4j2b\", :, \"nominal\"].stack(\"process\")[::-1].plot(stack=True, histtype=\"fill\", linewidth=1,edgecolor=\"grey\")\n",
    "plt.legend(frameon=False)\n",
    "plt.title(\">= 4 jets, >= 2 b-tags\")\n",
    "plt.xlabel(\"$m_{bjj}$ [Gev]\")\n",
    "plt.savefig('analysis.png')"
   ]
  },
  {
   "cell_type": "code",
   "execution_count": 36,
   "id": "a20386f8",
   "metadata": {},
   "outputs": [
    {
     "data": {
      "image/png": "[encoded data removed]",
      "text/plain": [
       "<Figure size 432x288 with 1 Axes>"
      ]
     },
     "metadata": {
      "needs_background": "light"
     },
     "output_type": "display_data"
    }
   ],
   "source": [
    "all_histograms[120j::hist.rebin(2), \"4j1b\", \"ttbar\", \"nominal\"].plot(label=\"nominal\", linewidth=2)\n",
    "plt.legend(frameon=False)\n",
    "plt.xlabel(\"HT [GeV]\")\n",
    "plt.title(\"b-tagging variations\");\n"
   ]
  },
  {
   "cell_type": "code",
   "execution_count": 37,
   "id": "f7ddfcef",
   "metadata": {},
   "outputs": [
    {
     "data": {
      "image/png": "[encoded data removed]",
      "text/plain": [
       "<Figure size 432x288 with 1 Axes>"
      ]
     },
     "metadata": {
      "needs_background": "light"
     },
     "output_type": "display_data"
    }
   ],
   "source": [
    "all_histograms[:, \"4j2b\", \"ttbar\", \"nominal\"].plot(label=\"nominal\", linewidth=2)\n",
    "plt.legend(frameon=False)\n",
    "plt.xlabel(\"$m_{bjj}$ [Gev]\")\n",
    "plt.title(\"Jet energy variations\");"
   ]
  },
  {
   "cell_type": "code",
   "execution_count": null,
   "id": "c4bde7ad",
   "metadata": {},
   "outputs": [],
   "source": []
  }
 ],
 "metadata": {
  "kernelspec": {
   "display_name": "Python 3 (ipykernel)",
   "language": "python",
   "name": "python3"
  },
  "language_info": {
   "codemirror_mode": {
    "name": "ipython",
    "version": 3
   },
   "file_extension": ".py",
   "mimetype": "text/x-python",
   "name": "python",
   "nbconvert_exporter": "python",
   "pygments_lexer": "ipython3",
   "version": "3.8.10"
  }
 },
 "nbformat": 4,
 "nbformat_minor": 5
}
